{
 "cells": [
  {
   "cell_type": "markdown",
   "id": "7476d38f",
   "metadata": {},
   "source": [
    "Сначала прогоните ноутбук и посмотрите, как он работает. \n",
    "\n",
    "Потом заполните недостающие части и добейтесь RMSE <= 295000 на test.\n",
    "\n",
    "Удачи!"
   ]
  },
  {
   "cell_type": "markdown",
   "id": "316d03ef",
   "metadata": {},
   "source": [
    "Будем предсказывать цену дома по его характеристикам (опять недвижимость!)"
   ]
  },
  {
   "cell_type": "code",
   "execution_count": 1,
   "id": "49d28164",
   "metadata": {},
   "outputs": [],
   "source": [
    "import numpy as np\n",
    "import pandas as pd"
   ]
  },
  {
   "cell_type": "markdown",
   "id": "4969d7e0",
   "metadata": {},
   "source": [
    "Посмотрим на данные"
   ]
  },
  {
   "cell_type": "code",
   "execution_count": 2,
   "id": "44660765",
   "metadata": {},
   "outputs": [
    {
     "data": {
      "text/html": [
       "<div>\n",
       "<style scoped>\n",
       "    .dataframe tbody tr th:only-of-type {\n",
       "        vertical-align: middle;\n",
       "    }\n",
       "\n",
       "    .dataframe tbody tr th {\n",
       "        vertical-align: top;\n",
       "    }\n",
       "\n",
       "    .dataframe thead th {\n",
       "        text-align: right;\n",
       "    }\n",
       "</style>\n",
       "<table border=\"1\" class=\"dataframe\">\n",
       "  <thead>\n",
       "    <tr style=\"text-align: right;\">\n",
       "      <th></th>\n",
       "      <th>Id</th>\n",
       "      <th>MSSubClass</th>\n",
       "      <th>MSZoning</th>\n",
       "      <th>LotFrontage</th>\n",
       "      <th>LotArea</th>\n",
       "      <th>Street</th>\n",
       "      <th>Alley</th>\n",
       "      <th>LotShape</th>\n",
       "      <th>LandContour</th>\n",
       "      <th>Utilities</th>\n",
       "      <th>...</th>\n",
       "      <th>PoolArea</th>\n",
       "      <th>PoolQC</th>\n",
       "      <th>Fence</th>\n",
       "      <th>MiscFeature</th>\n",
       "      <th>MiscVal</th>\n",
       "      <th>MoSold</th>\n",
       "      <th>YrSold</th>\n",
       "      <th>SaleType</th>\n",
       "      <th>SaleCondition</th>\n",
       "      <th>SalePrice</th>\n",
       "    </tr>\n",
       "  </thead>\n",
       "  <tbody>\n",
       "    <tr>\n",
       "      <th>0</th>\n",
       "      <td>1</td>\n",
       "      <td>60</td>\n",
       "      <td>RL</td>\n",
       "      <td>65.0</td>\n",
       "      <td>8450</td>\n",
       "      <td>Pave</td>\n",
       "      <td>NaN</td>\n",
       "      <td>Reg</td>\n",
       "      <td>Lvl</td>\n",
       "      <td>AllPub</td>\n",
       "      <td>...</td>\n",
       "      <td>0</td>\n",
       "      <td>NaN</td>\n",
       "      <td>NaN</td>\n",
       "      <td>NaN</td>\n",
       "      <td>0</td>\n",
       "      <td>2</td>\n",
       "      <td>2008</td>\n",
       "      <td>WD</td>\n",
       "      <td>Normal</td>\n",
       "      <td>208500</td>\n",
       "    </tr>\n",
       "    <tr>\n",
       "      <th>1</th>\n",
       "      <td>2</td>\n",
       "      <td>20</td>\n",
       "      <td>RL</td>\n",
       "      <td>80.0</td>\n",
       "      <td>9600</td>\n",
       "      <td>Pave</td>\n",
       "      <td>NaN</td>\n",
       "      <td>Reg</td>\n",
       "      <td>Lvl</td>\n",
       "      <td>AllPub</td>\n",
       "      <td>...</td>\n",
       "      <td>0</td>\n",
       "      <td>NaN</td>\n",
       "      <td>NaN</td>\n",
       "      <td>NaN</td>\n",
       "      <td>0</td>\n",
       "      <td>5</td>\n",
       "      <td>2007</td>\n",
       "      <td>WD</td>\n",
       "      <td>Normal</td>\n",
       "      <td>181500</td>\n",
       "    </tr>\n",
       "    <tr>\n",
       "      <th>2</th>\n",
       "      <td>3</td>\n",
       "      <td>60</td>\n",
       "      <td>RL</td>\n",
       "      <td>68.0</td>\n",
       "      <td>11250</td>\n",
       "      <td>Pave</td>\n",
       "      <td>NaN</td>\n",
       "      <td>IR1</td>\n",
       "      <td>Lvl</td>\n",
       "      <td>AllPub</td>\n",
       "      <td>...</td>\n",
       "      <td>0</td>\n",
       "      <td>NaN</td>\n",
       "      <td>NaN</td>\n",
       "      <td>NaN</td>\n",
       "      <td>0</td>\n",
       "      <td>9</td>\n",
       "      <td>2008</td>\n",
       "      <td>WD</td>\n",
       "      <td>Normal</td>\n",
       "      <td>223500</td>\n",
       "    </tr>\n",
       "    <tr>\n",
       "      <th>3</th>\n",
       "      <td>4</td>\n",
       "      <td>70</td>\n",
       "      <td>RL</td>\n",
       "      <td>60.0</td>\n",
       "      <td>9550</td>\n",
       "      <td>Pave</td>\n",
       "      <td>NaN</td>\n",
       "      <td>IR1</td>\n",
       "      <td>Lvl</td>\n",
       "      <td>AllPub</td>\n",
       "      <td>...</td>\n",
       "      <td>0</td>\n",
       "      <td>NaN</td>\n",
       "      <td>NaN</td>\n",
       "      <td>NaN</td>\n",
       "      <td>0</td>\n",
       "      <td>2</td>\n",
       "      <td>2006</td>\n",
       "      <td>WD</td>\n",
       "      <td>Abnorml</td>\n",
       "      <td>140000</td>\n",
       "    </tr>\n",
       "    <tr>\n",
       "      <th>4</th>\n",
       "      <td>5</td>\n",
       "      <td>60</td>\n",
       "      <td>RL</td>\n",
       "      <td>84.0</td>\n",
       "      <td>14260</td>\n",
       "      <td>Pave</td>\n",
       "      <td>NaN</td>\n",
       "      <td>IR1</td>\n",
       "      <td>Lvl</td>\n",
       "      <td>AllPub</td>\n",
       "      <td>...</td>\n",
       "      <td>0</td>\n",
       "      <td>NaN</td>\n",
       "      <td>NaN</td>\n",
       "      <td>NaN</td>\n",
       "      <td>0</td>\n",
       "      <td>12</td>\n",
       "      <td>2008</td>\n",
       "      <td>WD</td>\n",
       "      <td>Normal</td>\n",
       "      <td>250000</td>\n",
       "    </tr>\n",
       "  </tbody>\n",
       "</table>\n",
       "<p>5 rows × 81 columns</p>\n",
       "</div>"
      ],
      "text/plain": [
       "   Id  MSSubClass MSZoning  LotFrontage  LotArea Street Alley LotShape  \\\n",
       "0   1          60       RL         65.0     8450   Pave   NaN      Reg   \n",
       "1   2          20       RL         80.0     9600   Pave   NaN      Reg   \n",
       "2   3          60       RL         68.0    11250   Pave   NaN      IR1   \n",
       "3   4          70       RL         60.0     9550   Pave   NaN      IR1   \n",
       "4   5          60       RL         84.0    14260   Pave   NaN      IR1   \n",
       "\n",
       "  LandContour Utilities  ... PoolArea PoolQC Fence MiscFeature MiscVal MoSold  \\\n",
       "0         Lvl    AllPub  ...        0    NaN   NaN         NaN       0      2   \n",
       "1         Lvl    AllPub  ...        0    NaN   NaN         NaN       0      5   \n",
       "2         Lvl    AllPub  ...        0    NaN   NaN         NaN       0      9   \n",
       "3         Lvl    AllPub  ...        0    NaN   NaN         NaN       0      2   \n",
       "4         Lvl    AllPub  ...        0    NaN   NaN         NaN       0     12   \n",
       "\n",
       "  YrSold  SaleType  SaleCondition  SalePrice  \n",
       "0   2008        WD         Normal     208500  \n",
       "1   2007        WD         Normal     181500  \n",
       "2   2008        WD         Normal     223500  \n",
       "3   2006        WD        Abnorml     140000  \n",
       "4   2008        WD         Normal     250000  \n",
       "\n",
       "[5 rows x 81 columns]"
      ]
     },
     "execution_count": 2,
     "metadata": {},
     "output_type": "execute_result"
    }
   ],
   "source": [
    "data = pd.read_csv(\"data/train.csv\")\n",
    "data.head()"
   ]
  },
  {
   "cell_type": "code",
   "execution_count": 3,
   "id": "fb7a2a4e",
   "metadata": {},
   "outputs": [],
   "source": [
    "data_num = data.select_dtypes(exclude='object')  # Оставим только числовые признаки (не объекты)\n",
    "# data_cat = data.select_dtypes(include='object')  # \"Почините\" категориальные признаки, чтобы их можно было использовать"
   ]
  },
  {
   "cell_type": "code",
   "execution_count": 4,
   "id": "0583aeed",
   "metadata": {},
   "outputs": [
    {
     "name": "stdout",
     "output_type": "stream",
     "text": [
      "Now we have 38 features. Wow!\n"
     ]
    }
   ],
   "source": [
    "data = data_num\n",
    "# Вы можете использовать эту строчку, чтобы соединить числовые и \"исправленные\" категориальные признаки\n",
    "# data = pd.concat([data_num, data_cat], axis=1)\n",
    "print(f\"Now we have {len(data.columns)} features. Wow!\")"
   ]
  },
  {
   "cell_type": "code",
   "execution_count": 5,
   "id": "1a1ee484",
   "metadata": {},
   "outputs": [],
   "source": [
    "data = data.fillna(0)  # Заменяем все Nan на нули. Можно сделать лучше!"
   ]
  },
  {
   "cell_type": "code",
   "execution_count": 6,
   "id": "dd82cb0a",
   "metadata": {},
   "outputs": [],
   "source": [
    "# Do not change this block\n",
    "from sklearn.model_selection import train_test_split\n",
    "\n",
    "X_train, X_test, y_train, y_test = train_test_split(\n",
    "    data.drop(labels=['SalePrice'], axis=1),\n",
    "    data['SalePrice'],\n",
    "    test_size=0.2,\n",
    "    random_state=666\n",
    ")"
   ]
  },
  {
   "cell_type": "code",
   "execution_count": 7,
   "id": "f4f5ed69",
   "metadata": {},
   "outputs": [],
   "source": [
    "# Стандартизуйте данные"
   ]
  },
  {
   "cell_type": "code",
   "execution_count": 8,
   "id": "3d366e6b",
   "metadata": {},
   "outputs": [
    {
     "name": "stdout",
     "output_type": "stream",
     "text": [
      "RMSE: 36929.59525499005\n"
     ]
    }
   ],
   "source": [
    "from sklearn.linear_model import Ridge\n",
    "from sklearn import metrics\n",
    "\n",
    "lm = Ridge()  # Гребневая регрессия\n",
    "lm.fit(X_train, y_train)\n",
    "predicted_price = lm.predict(X_test)\n",
    "\n",
    "print('RMSE:', np.sqrt(metrics.mean_squared_error(y_test, predicted_price)))"
   ]
  },
  {
   "cell_type": "markdown",
   "id": "25625405",
   "metadata": {},
   "source": [
    "Удалим коррелированные признаки"
   ]
  },
  {
   "cell_type": "code",
   "execution_count": 9,
   "id": "781b8cbd",
   "metadata": {},
   "outputs": [
    {
     "name": "stdout",
     "output_type": "stream",
     "text": [
      "correlated features:  0\n"
     ]
    }
   ],
   "source": [
    "# Функцию честно взял из kaggle\n",
    "\n",
    "def correlation(dataset, threshold):\n",
    "    col_corr = set()  # Сюда будем записывать признаки, которые с кем-то коррелируют\n",
    "    corr_matrix = dataset.corr()  \n",
    "    for i in range(len(corr_matrix.columns)):  # Бежим по все признакам\n",
    "        for j in range(i):\n",
    "            if abs(corr_matrix.iloc[i, j]) > threshold: # Проверяем, что корреляция по модулю больше порога\n",
    "                colname = corr_matrix.columns[i]  # И добавляем колонку\n",
    "                col_corr.add(colname)\n",
    "    return col_corr\n",
    "\n",
    "corr_features = correlation(X_train, threshold=0.9)\n",
    "print('correlated features: ', len(set(corr_features)) )"
   ]
  },
  {
   "cell_type": "code",
   "execution_count": 10,
   "id": "62c88a8c",
   "metadata": {},
   "outputs": [],
   "source": [
    "X_train = X_train.drop(labels=corr_features, axis=1)  # Удалим те признаки, которые с кем-то коррелируют\n",
    "X_test = X_test.drop(labels=corr_features, axis=1)"
   ]
  },
  {
   "cell_type": "code",
   "execution_count": 11,
   "id": "a2961a65",
   "metadata": {},
   "outputs": [
    {
     "name": "stdout",
     "output_type": "stream",
     "text": [
      "RMSE: 36929.59525499005\n"
     ]
    }
   ],
   "source": [
    "lm = Ridge()\n",
    "lm.fit(X_train, y_train)\n",
    "predicted_price = lm.predict(X_test)\n",
    "\n",
    "print('RMSE:', np.sqrt(metrics.mean_squared_error(y_test, predicted_price)))"
   ]
  },
  {
   "cell_type": "markdown",
   "id": "6740a15c",
   "metadata": {},
   "source": [
    "Если вы, заменили категориальные признаки на one-hot, SequentialFeatureSelector будет работать очень долго (слишком много перебирать)! \n",
    "В этом случае предлагаю воспользоваться следующими ячейками"
   ]
  },
  {
   "cell_type": "code",
   "execution_count": 12,
   "id": "97d9aad2",
   "metadata": {},
   "outputs": [
    {
     "name": "stdout",
     "output_type": "stream",
     "text": [
      "Features we took are Index(['MSSubClass', 'OverallQual', 'OverallCond', 'YearBuilt', 'YearRemodAdd',\n",
      "       'MasVnrArea', 'BsmtUnfSF', '1stFlrSF', '2ndFlrSF', 'BsmtFullBath',\n",
      "       'BedroomAbvGr', 'KitchenAbvGr', 'TotRmsAbvGrd', 'GarageYrBlt',\n",
      "       'GarageCars', 'WoodDeckSF', 'ScreenPorch', 'YrSold'],\n",
      "      dtype='object')\n"
     ]
    }
   ],
   "source": [
    "from sklearn.feature_selection import SequentialFeatureSelector\n",
    "\n",
    "# Прямой или обратный отбор признаков. Добавляем/удаляем по одному, пока метрики растут. \n",
    "# estimator - алгоритм, для которого перебираем признаки\n",
    "# n_jobs - число процессов компьютера, -1 == использовать все\n",
    "selector = SequentialFeatureSelector(estimator=Ridge(), n_jobs=-1, direction=\"backward\", cv=2)  # direction: [forward, backward]\n",
    "selector.fit(X_train, y_train)\n",
    "\n",
    "# Функция get_support возвращает boolean mask, воспользуемся ей, как индексами\n",
    "print(f\"Features we took are {X_train.columns[selector.get_support()]}\")\n",
    "\n",
    "# Выбираем только те колонки, которые посчитали важными\n",
    "X_train_important = X_train[X_train.columns[selector.get_support()]]\n",
    "X_test_important = X_test[X_test.columns[selector.get_support()]]"
   ]
  },
  {
   "cell_type": "code",
   "execution_count": 13,
   "id": "61a6d71c",
   "metadata": {},
   "outputs": [
    {
     "name": "stdout",
     "output_type": "stream",
     "text": [
      "RMSE: 36437.134830399664\n"
     ]
    }
   ],
   "source": [
    "lm = Ridge()\n",
    "lm.fit(X_train_important, y_train)\n",
    "predicted_price = lm.predict(X_test_important)\n",
    "\n",
    "print('RMSE:', np.sqrt(metrics.mean_squared_error(y_test, predicted_price)))"
   ]
  },
  {
   "cell_type": "markdown",
   "id": "b53a7800",
   "metadata": {},
   "source": [
    "Почитать о SelectFromModel можно [здесь](https://scikit-learn.org/stable/modules/generated/sklearn.feature_selection.SelectFromModel.html)\n",
    "\n",
    "Просто сортирует признаки в обученной модели по важности и оставляет те, которые выше порога (threshold)"
   ]
  },
  {
   "cell_type": "code",
   "execution_count": 14,
   "id": "e35395cd",
   "metadata": {},
   "outputs": [
    {
     "name": "stdout",
     "output_type": "stream",
     "text": [
      "Features we took are Index(['MSSubClass', 'OverallQual', 'OverallCond', 'YearBuilt', 'YearRemodAdd',\n",
      "       'MasVnrArea', 'BsmtFullBath', 'BsmtHalfBath', 'FullBath', 'HalfBath',\n",
      "       'BedroomAbvGr', 'KitchenAbvGr', 'TotRmsAbvGrd', 'Fireplaces',\n",
      "       'GarageCars', 'WoodDeckSF', 'ScreenPorch', 'PoolArea', 'YrSold'],\n",
      "      dtype='object')\n"
     ]
    }
   ],
   "source": [
    "from sklearn.feature_selection import SelectFromModel\n",
    "# estimator - алгоритм, для которого перебираем признаки\n",
    "# threshold=\"median\" - выбираем те признаки, которые выше медианы по важности\n",
    "selector = SelectFromModel(estimator=Ridge(), threshold=\"median\")\n",
    "selector.fit(X_train, y_train)\n",
    "print(f\"Features we took are {X_train.columns[selector.get_support()]}\")\n",
    "\n",
    "# Выбираем только те колонки, которые посчитали важными\n",
    "X_train_important = X_train[X_train.columns[selector.get_support()]]\n",
    "X_test_important = X_test[X_test.columns[selector.get_support()]]"
   ]
  },
  {
   "cell_type": "code",
   "execution_count": 15,
   "id": "c0a2d784",
   "metadata": {},
   "outputs": [
    {
     "name": "stdout",
     "output_type": "stream",
     "text": [
      "RMSE: 42008.44440108443\n"
     ]
    }
   ],
   "source": [
    "lm = Ridge()\n",
    "lm.fit(X_train_important, y_train)\n",
    "predicted_price = lm.predict(X_test_important)\n",
    "\n",
    "print('RMSE:', np.sqrt(metrics.mean_squared_error(y_test, predicted_price)))"
   ]
  },
  {
   "cell_type": "code",
   "execution_count": null,
   "id": "02c1acbe",
   "metadata": {},
   "outputs": [],
   "source": []
  }
 ],
 "metadata": {
  "kernelspec": {
   "display_name": "Python 3",
   "language": "python",
   "name": "python3"
  },
  "language_info": {
   "codemirror_mode": {
    "name": "ipython",
    "version": 3
   },
   "file_extension": ".py",
   "mimetype": "text/x-python",
   "name": "python",
   "nbconvert_exporter": "python",
   "pygments_lexer": "ipython3",
   "version": "3.6.13"
  }
 },
 "nbformat": 4,
 "nbformat_minor": 5
}
