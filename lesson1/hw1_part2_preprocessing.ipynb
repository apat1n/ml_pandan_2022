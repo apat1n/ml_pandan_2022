{
  "cells": [
    {
      "cell_type": "markdown",
      "source": [
        "# <center>Лекция 1. Введение в машинное обучение, EDA</center>\n",
        "## <center>Практическое задание 2. Подготовка данных</center>"
      ],
      "metadata": {
        "id": "qxA5dPSDVy1T"
      }
    },
    {
      "cell_type": "markdown",
      "metadata": {
        "id": "53vcA_aBTvjb"
      },
      "source": [
        "### Загрузка данных"
      ]
    },
    {
      "cell_type": "code",
      "source": [
        "import numpy as np\n",
        "import pandas as pd\n",
        "\n",
        "!wget -q https://raw.githubusercontent.com/jbr-ai-labs/ml-intro/main/hw_EDA_data/covid.csv\n",
        "!wget -q https://raw.githubusercontent.com/jbr-ai-labs/ml-intro/main/hw_EDA_data/hr.csv"
      ],
      "metadata": {
        "id": "tThccjVNT8Z3"
      },
      "execution_count": null,
      "outputs": []
    },
    {
      "cell_type": "markdown",
      "metadata": {
        "id": "Xn0kDQ71Tvjc"
      },
      "source": [
        "Для начала работы нам необходимо научиться читать набор данных. В данном домашнем задании мы поработаем с двумя наборами данных.\n",
        "\n",
        "__covid.csv__ ([источник](https://www.kaggle.com/gpreda/covid-world-vaccination-progress)) - статистика по вакцинированию от COVID19 по разным странам. Для данного датасета нет конкретной предсказательной переменной.\n",
        "\n",
        "__hr.csv__ ([источник](https://www.kaggle.com/arashnic/hr-analytics-job-change-of-data-scientists)) - набор данных большего размера. Он содержит статистику по людям, проходящим курсы по Big Data & ML. _Target_ - 1 или 0, сменил ли человек работу после прохождения курсов - или нет.\n",
        "\n",
        "Реализуйте методы `read_covid_dataset` и `read_hr_dataset`. Каждый из них принимает на вход путь к набору данных и возвращает выборку `X` и соответствующие метки `y`. В случае _covid_ датасета `y` возвращается как `None`. "
      ]
    },
    {
      "cell_type": "code",
      "execution_count": null,
      "metadata": {
        "id": "Bcf9Icr2Tvjc"
      },
      "outputs": [],
      "source": [
        "def read_covid_dataset(path_to_csv):\n",
        "    # Возвращает пару из X и y. X - массив векторов. y - соответствующие векторам метки\n",
        "    return X, y\n",
        "\n",
        "\n",
        "def read_hr_dataset(path_to_csv):\n",
        "    # Возвращает пару из X и y. X - массив векторов. y - соответствующие векторам метки\n",
        "    return X, y"
      ]
    },
    {
      "cell_type": "code",
      "execution_count": null,
      "metadata": {
        "id": "5dlLRWp3Tvjd"
      },
      "outputs": [],
      "source": [
        "COVID_DATA_PATH = # YOUR_CODE\n",
        "HR_DATA_PATH = # YOUR_CODE "
      ]
    },
    {
      "cell_type": "code",
      "execution_count": null,
      "metadata": {
        "id": "DFt128XBTvje"
      },
      "outputs": [],
      "source": [
        "X_covid, _ = read_covid_dataset(COVID_DATA_PATH)\n",
        "X_hr, y_hr = read_hr_dataset(HR_DATA_PATH)"
      ]
    },
    {
      "cell_type": "markdown",
      "source": [
        "### Задание 1\n",
        "\n",
        "Выполните задание для датасетa _hr_.\n",
        "\n",
        "Для дальнейшей работы с данными нужно обработать пропущенные значения в датасете.\n",
        "Существуют различные стратегии обработки пропущенных данных."
      ],
      "metadata": {
        "id": "UZzyYJUqVBvC"
      }
    },
    {
      "cell_type": "markdown",
      "metadata": {
        "id": "MIak2QKXTvjh"
      },
      "source": [
        "#### 1.\n",
        "\n",
        "Для числовых признаков постройте распределения признаков. Для категориальных признаков выведите статистику по количеству значений признака."
      ]
    },
    {
      "cell_type": "code",
      "execution_count": null,
      "metadata": {
        "id": "e5RjnYdETvji"
      },
      "outputs": [],
      "source": [
        "# YOUR_CODE"
      ]
    },
    {
      "cell_type": "markdown",
      "metadata": {
        "id": "hSE7RkobTvji"
      },
      "source": [
        "#### 2.\n",
        "Удалите все строки, где есть хотя бы одно пропущенное значение признака. Насколько сильно уменьшился размер датасета? Как изменились распределения признаков/статистика по количеству значений признаков?"
      ]
    },
    {
      "cell_type": "code",
      "execution_count": null,
      "metadata": {
        "id": "4ec1Oa_PTvji"
      },
      "outputs": [],
      "source": [
        "print(f'Исходный размер датасета hr {YOUR_CODE}')"
      ]
    },
    {
      "cell_type": "code",
      "execution_count": null,
      "metadata": {
        "id": "Ozf2xepCTvjj"
      },
      "outputs": [],
      "source": [
        "X_hr_dropna = # YOUR_CODE"
      ]
    },
    {
      "cell_type": "code",
      "execution_count": null,
      "metadata": {
        "id": "I82IHDZlTvjj"
      },
      "outputs": [],
      "source": [
        "print(f'Pазмер датасета hr без NaN {YOUR_CODE}')"
      ]
    },
    {
      "cell_type": "markdown",
      "metadata": {
        "id": "HkxUrJtsTvjj"
      },
      "source": [
        "_Ваш ответ_"
      ]
    },
    {
      "cell_type": "markdown",
      "metadata": {
        "id": "YeDtyTQeTvjk"
      },
      "source": [
        "Давайте попробуем избежать сокращения размера датасета."
      ]
    },
    {
      "cell_type": "markdown",
      "metadata": {
        "id": "H_mgWXuoTvjl"
      },
      "source": [
        "#### 3.\n",
        "Для числовых признаков заполните пропущенные данные средним/медианой/модой данного признака. Объясните свой выбор. (Часть строк с NaN значениями можно удалить, если размер датасета уменьшится <15%)"
      ]
    },
    {
      "cell_type": "markdown",
      "metadata": {
        "id": "7U6JJnLfTvjl"
      },
      "source": [
        "#### 4.\n",
        "Для категориальных признаков заполните пропущенные значения самой встречающейся категорией или создайте отдельную категорию пропущенных значений. Объясните свой выбор. (Часть строк с NaN значениями можно удалить, если размер датасета уменьшится <15%)"
      ]
    },
    {
      "cell_type": "markdown",
      "metadata": {
        "id": "PyLzj1UHTvjm"
      },
      "source": [
        "_Ваш ответ_"
      ]
    },
    {
      "cell_type": "code",
      "execution_count": null,
      "metadata": {
        "id": "z6iKx_nJTvjm"
      },
      "outputs": [],
      "source": [
        "def fill_na(X, y):\n",
        "    # Возвращает данные без NaN значений\n",
        "    return X_fill, y_fill"
      ]
    },
    {
      "cell_type": "code",
      "execution_count": null,
      "metadata": {
        "id": "PxI386ROTvjm"
      },
      "outputs": [],
      "source": [
        "X_hr_fill, y_hr_fill = fill_na(X_hr, y_hr)"
      ]
    },
    {
      "cell_type": "markdown",
      "metadata": {
        "id": "JVjD3KRrTvjm"
      },
      "source": [
        "#### 5. \n",
        "Как изменились распределения признаков/статистика по количеству значений признаков после заполнения пропущенных данных?"
      ]
    },
    {
      "cell_type": "code",
      "execution_count": null,
      "metadata": {
        "id": "hvVsUt9hTvjn"
      },
      "outputs": [],
      "source": [
        "# YOUR_CODE"
      ]
    },
    {
      "cell_type": "markdown",
      "metadata": {
        "id": "5c4qvVcSTvjn"
      },
      "source": [
        "_Ваш ответ_"
      ]
    },
    {
      "cell_type": "markdown",
      "metadata": {
        "id": "Tq6o9MshTvjn"
      },
      "source": [
        "### Задание 2\n",
        "\n",
        "Выполните задание для датасета _covid_.\n",
        "\n",
        "1. Найдите страну, для которой в датасете присутствует 46 дат со статистикой по вакцинации.\n",
        "2. Постройте для этой страны график зависимости _total_vaccinations_ от _date_.\n",
        "3. Заполните пропущенные данные о _total_vaccinations_ для этой страны. Объясните свой выбор."
      ]
    },
    {
      "cell_type": "code",
      "execution_count": null,
      "metadata": {
        "id": "G6UrWxy_Tvjo"
      },
      "outputs": [],
      "source": [
        "# YOUR_CODE"
      ]
    },
    {
      "cell_type": "markdown",
      "metadata": {
        "id": "IxcMjh37Tvjo"
      },
      "source": [
        "_Ваш ответ_"
      ]
    },
    {
      "cell_type": "markdown",
      "metadata": {
        "id": "lvFOF3fITvjo"
      },
      "source": [
        "### Задание 3\n",
        "Выполните задание для датасета _hr_.\n",
        "\n",
        "Есть ли в данных выбросы? Если да, то скажите, какие и почему Вы считаете их выбросами?\n"
      ]
    },
    {
      "cell_type": "code",
      "execution_count": null,
      "metadata": {
        "id": "WJxFRLXPTvjo"
      },
      "outputs": [],
      "source": [
        "# YOUR_CODE"
      ]
    },
    {
      "cell_type": "markdown",
      "metadata": {
        "id": "CbnkHOAVTvjo"
      },
      "source": [
        "_Ваш ответ_"
      ]
    },
    {
      "cell_type": "markdown",
      "metadata": {
        "id": "FqTX3QHxTvjo"
      },
      "source": [
        "### Задание 4\n",
        "Выполните задание для датасета _hr_.\n",
        "\n",
        "Закодируйте категориальные признаки при помощи One-hot encoding/Label encoding/Frequency encoding. Объясните свой выбор. (Обратите внимание, что некоторые категориальные признаки предполагают ранжирование в своих значениях)\n"
      ]
    },
    {
      "cell_type": "code",
      "execution_count": null,
      "metadata": {
        "id": "wM1H6Tn4Tvjp"
      },
      "outputs": [],
      "source": [
        "def encode(X):\n",
        "    # Возвращает данные без категориальных признаков\n",
        "    return X_encode"
      ]
    },
    {
      "cell_type": "code",
      "execution_count": null,
      "metadata": {
        "id": "xKO7-WGgTvjp"
      },
      "outputs": [],
      "source": [
        "X_hr_encode = encode(X_hr_fill)"
      ]
    }
  ],
  "metadata": {
    "kernelspec": {
      "display_name": "Python 3",
      "language": "python",
      "name": "python3"
    },
    "language_info": {
      "codemirror_mode": {
        "name": "ipython",
        "version": 3
      },
      "file_extension": ".py",
      "mimetype": "text/x-python",
      "name": "python",
      "nbconvert_exporter": "python",
      "pygments_lexer": "ipython3",
      "version": "3.8.5"
    },
    "colab": {
      "name": "hw1_part2_preprocessing",
      "provenance": []
    }
  },
  "nbformat": 4,
  "nbformat_minor": 0
}